import pandas as pd
from sklearn.preprocessing import LabelEncoder, OneHotEncoder
from sklearn.model_selection import train_test_split
from sklearn.ensemble import RandomForestClassifier
from sklearn.metrics import accuracy_score, classification_report, confusion_matrix
from tabulate import tabulate

# Load dataset
df = pd.read_csv(r'/Users/nishthatiwari/Desktop/cognifyz/Dataset .csv')

# Handle missing values
df.fillna('', inplace=True)

# Encode the 'Cuisines' column using LabelEncoder
label_encoder = LabelEncoder()
df['Cuisines'] = label_encoder.fit_transform(df['Cuisines'])

# Select relevant features for the model
features = ['Average Cost for two', 'Has Table booking', 'Has Online delivery', 'Is delivering now', 'Price range', 'Aggregate rating']
X = df[features]
y = df['Cuisines']

# Encode categorical variables in features
onehot_encoder = OneHotEncoder(handle_unknown='ignore')
X_encoded = onehot_encoder.fit_transform(X)

# Split the data into training and testing sets
X_train, X_test, y_train, y_test = train_test_split(X_encoded, y, test_size=0.2, random_state=42)

# Train a RandomForest classifier
clf = RandomForestClassifier(n_estimators=100, random_state=42)
clf.fit(X_train, y_train)

# Predict on the test data
y_pred = clf.predict(X_test)

# Evaluate the model
accuracy = accuracy_score(y_test, y_pred)

# Generate unique classes from y_test and y_pred
unique_classes = sorted(list(set(y_test).union(set(y_pred))))

# Create a mapping for class names
class_mapping = {i: label_encoder.inverse_transform([i])[0] for i in unique_classes}

# Generate target names for the classification report
target_names = [class_mapping[i] for i in unique_classes]

# Print accuracy
print(f'Accuracy: {accuracy:.2f}\n')


# Print classification report using tabulate
classification_rep = classification_report(y_test, y_pred, target_names=target_names, zero_division=1, output_dict=True)
df_classification_rep = pd.DataFrame(classification_rep).transpose()
df_classification_rep = df_classification_rep.sort_values(by=['f1-score'], ascending=False)  # Sort by F1-score for better readability

print('Classification Report:')
print(tabulate(df_classification_rep, headers='keys', tablefmt='fancy_grid', floatfmt=".2f"))

# Print confusion matrix using tabulate
confusion_mat = confusion_matrix(y_test, y_pred)
df_confusion_mat = pd.DataFrame(confusion_mat, index=target_names, columns=target_names)

print('\nConfusion Matrix:')
print(tabulate(df_confusion_mat, headers='keys', tablefmt='fancy_grid'))
